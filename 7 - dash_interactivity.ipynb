{
 "cells": [
  {
   "cell_type": "code",
   "execution_count": 1,
   "id": "6bec8144",
   "metadata": {},
   "outputs": [],
   "source": [
    "# Import required libraries\n",
    "import pandas as pd\n",
    "import dash\n",
    "from dash import html\n",
    "from dash import dcc\n",
    "from dash.dependencies import Input, Output\n",
    "import plotly.express as px"
   ]
  },
  {
   "cell_type": "code",
   "execution_count": 2,
   "id": "3eca4dcd",
   "metadata": {},
   "outputs": [
    {
     "name": "stdout",
     "output_type": "stream",
     "text": [
      "9600.0\n",
      "0.0\n"
     ]
    }
   ],
   "source": [
    "# Read the airline data into pandas dataframe\n",
    "spacex_df = pd.read_csv(\"spacex_launch_dash.csv\")\n",
    "max_payload = spacex_df['Payload Mass (kg)'].max()\n",
    "min_payload = spacex_df['Payload Mass (kg)'].min()\n",
    "print(max_payload)\n",
    "print(min_payload)"
   ]
  },
  {
   "cell_type": "code",
   "execution_count": 3,
   "id": "4edf034d",
   "metadata": {},
   "outputs": [
    {
     "name": "stdout",
     "output_type": "stream",
     "text": [
      "<class 'pandas.core.frame.DataFrame'>\n",
      "RangeIndex: 56 entries, 0 to 55\n",
      "Data columns (total 7 columns):\n",
      " #   Column                    Non-Null Count  Dtype  \n",
      "---  ------                    --------------  -----  \n",
      " 0   Unnamed: 0                56 non-null     int64  \n",
      " 1   Flight Number             56 non-null     int64  \n",
      " 2   Launch Site               56 non-null     object \n",
      " 3   class                     56 non-null     int64  \n",
      " 4   Payload Mass (kg)         56 non-null     float64\n",
      " 5   Booster Version           56 non-null     object \n",
      " 6   Booster Version Category  56 non-null     object \n",
      "dtypes: float64(1), int64(3), object(3)\n",
      "memory usage: 3.2+ KB\n"
     ]
    }
   ],
   "source": [
    "spacex_df.info()"
   ]
  },
  {
   "cell_type": "code",
   "execution_count": 4,
   "id": "a7640c13",
   "metadata": {},
   "outputs": [],
   "source": [
    "# Create a dash application\n",
    "app = dash.Dash(__name__)\n",
    "\n",
    "# Create an app layout\n",
    "app.layout = html.Div(children=[html.H1('SpaceX Launch Records Dashboard',\n",
    "                                        style={'textAlign': 'center', 'color': '#503D36',\n",
    "                                               'font-size': 40}),\n",
    "                                # TASK 1: Add a dropdown list to enable Launch Site selection\n",
    "                                # The default select value is for ALL sites\n",
    "                                dcc.Dropdown(id='site-dropdown',                         \n",
    "                                             options=[\n",
    "                                                 {'label': 'All Sites', 'value': 'All'},\n",
    "                                                 {'label': 'CCAFS LC-40', 'value': 'CCAFS LC-40'},\n",
    "                                                 {'label': 'CCAFS SLC-40', 'value': 'CCAFS SLC-40'},\n",
    "                                                 {'label': 'KSC LC-39A', 'value': 'KSC LC-39A'},\n",
    "                                                 {'label': 'VAFB SLC-4E', 'value': 'VAFB SLC-4E'},\n",
    "                                             ],\n",
    "                                            value='All',\n",
    "                                            placeholder=\"Select a Launch Site here\",\n",
    "                                            searchable=True),\n",
    "                                html.Br(),\n",
    "\n",
    "                                # TASK 2: Add a pie chart to show the total successful launches count for all sites\n",
    "                                # If a specific launch site was selected, show the Success vs. Failed counts for the site\n",
    "                                html.Div(dcc.Graph(id='success-pie-chart')),\n",
    "                                html.Br(),\n",
    "                                \n",
    "                                html.P(\"Payload range (Kg):\"),\n",
    "                                # TASK 3: Add a slider to select payload range\n",
    "                                dcc.RangeSlider(id='payload-slider',\n",
    "                                               min=0, max=10000, step=100,\n",
    "                                                marks={i: str(i) for i in range(0, 10001, 1000)},\n",
    "                                                value=[min_payload, max_payload]),\n",
    "\n",
    "                                # TASK 4: Add a scatter chart to show the correlation between payload and launch success\n",
    "                                html.Div(dcc.Graph(id='success-payload-scatter-chart')),\n",
    "                                ])\n",
    "\n",
    "# TASK 2:\n",
    "# Add a callback function for `site-dropdown` as input, `success-pie-chart` as output\n",
    "# Function decorator to specify function input and output\n",
    "\n",
    "# TASK 4:\n",
    "# Add a callback function for `site-dropdown` and `payload-slider` as inputs, `success-payload-scatter-chart` as output\n",
    "\n",
    "\n",
    "\n"
   ]
  },
  {
   "cell_type": "code",
   "execution_count": 5,
   "id": "d89305b5",
   "metadata": {},
   "outputs": [],
   "source": [
    "@app.callback(Output(component_id='success-pie-chart', component_property='figure'),\n",
    "              Input(component_id='site-dropdown', component_property='value'))\n",
    "def get_pie_chart(entered_site):\n",
    "    \n",
    "    if entered_site == 'All':\n",
    "        fig = px.pie(spacex_df.groupby('Launch Site', as_index=False).sum(), values='class', names='Launch Site', title='Total success launches')\n",
    "        return fig\n",
    "    else:\n",
    "        filtered_df = spacex_df.groupby(['Launch Site', 'class'], as_index=False).count()\n",
    "        fig = px.pie(filtered_df[filtered_df['Launch Site']==entered_site], values='Unnamed: 0', names='class',\n",
    "                     title=str('Total launches for '+entered_site))  # 'Unnamed: 0' - one of the columns of the spacex_df\n",
    "        return fig\n"
   ]
  },
  {
   "cell_type": "code",
   "execution_count": 6,
   "id": "42456f5e",
   "metadata": {},
   "outputs": [],
   "source": [
    "@app.callback(Output(component_id='success-payload-scatter-chart', component_property='figure'),\n",
    "              [Input(component_id='site-dropdown', component_property='value'), \n",
    "               Input(component_id=\"payload-slider\", component_property=\"value\")])\n",
    "def get_scat_chart(entered_site, rendered_mass):\n",
    "    filtered_df = spacex_df[spacex_df['Payload Mass (kg)'] <= max(rendered_mass)]\n",
    "    filtered_df = filtered_df[filtered_df['Payload Mass (kg)'] >= min(rendered_mass)]\n",
    "    if entered_site == 'All':\n",
    "        fig = px.scatter(filtered_df, x=\"Payload Mass (kg)\", y=\"class\", color=\"Booster Version Category\")\n",
    "        return fig\n",
    "    else:\n",
    "        filtered_df = filtered_df[filtered_df['Launch Site']==entered_site]\n",
    "        fig = px.scatter(filtered_df, x=\"Payload Mass (kg)\", y=\"class\", color=\"Booster Version Category\")\n",
    "        return fig"
   ]
  },
  {
   "cell_type": "code",
   "execution_count": null,
   "id": "3fa6d898",
   "metadata": {},
   "outputs": [
    {
     "name": "stdout",
     "output_type": "stream",
     "text": [
      "Dash is running on http://127.0.0.1:8050/\n",
      "\n",
      " * Serving Flask app \"__main__\" (lazy loading)\n",
      " * Environment: production\n",
      "\u001b[31m   WARNING: This is a development server. Do not use it in a production deployment.\u001b[0m\n",
      "\u001b[2m   Use a production WSGI server instead.\u001b[0m\n",
      " * Debug mode: off\n"
     ]
    },
    {
     "name": "stderr",
     "output_type": "stream",
     "text": [
      " * Running on http://127.0.0.1:8050/ (Press CTRL+C to quit)\n"
     ]
    }
   ],
   "source": [
    "# Run the app\n",
    "if __name__ == '__main__':\n",
    "    app.run_server()"
   ]
  },
  {
   "cell_type": "code",
   "execution_count": null,
   "id": "15f654ab",
   "metadata": {},
   "outputs": [],
   "source": []
  },
  {
   "cell_type": "code",
   "execution_count": null,
   "id": "2278ebec",
   "metadata": {},
   "outputs": [],
   "source": []
  }
 ],
 "metadata": {
  "kernelspec": {
   "display_name": "Python 3 (ipykernel)",
   "language": "python",
   "name": "python3"
  },
  "language_info": {
   "codemirror_mode": {
    "name": "ipython",
    "version": 3
   },
   "file_extension": ".py",
   "mimetype": "text/x-python",
   "name": "python",
   "nbconvert_exporter": "python",
   "pygments_lexer": "ipython3",
   "version": "3.9.13"
  }
 },
 "nbformat": 4,
 "nbformat_minor": 5
}
